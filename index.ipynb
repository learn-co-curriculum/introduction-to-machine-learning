{
 "cells": [
  {
   "cell_type": "markdown",
   "metadata": {},
   "source": [
    "# Introduction to Machine Learning"
   ]
  },
  {
   "cell_type": "markdown",
   "metadata": {},
   "source": [
    "### Introduction"
   ]
  },
  {
   "cell_type": "markdown",
   "metadata": {},
   "source": [
    "### Why machine learning"
   ]
  },
  {
   "cell_type": "markdown",
   "metadata": {},
   "source": [
    "In the previous section we saw how to use Python to collect and analyze data.  We also saw how programming can be used to make decisions with data.  For example with traditional programming we can gather information about registered users to a restaurant website based on information we gather from them during signup.  So we can see the attributes of these customers and write programs based on this information.  \n",
    "\n",
    "However, what those who never register to our website and just visit?  A user's activity may allow us to ascertain characteristics about the user.  For example, those who repeatedly search for family restaurants may be different than those who search for places with a bar.  We may be able to predict demographic information about a user just based on their activity.  We want these predictions to reflect our data, and incorporate new data as it is provided.  To write programs that automatically adapt to new information over time, and that consider variation in data without the need to explicitly handle each variation, machine learning can be used."
   ]
  },
  {
   "cell_type": "markdown",
   "metadata": {},
   "source": [
    "### What is machine learning"
   ]
  },
  {
   "cell_type": "markdown",
   "metadata": {},
   "source": [
    "Machine learning uses statistics and machine learning algorithms to allow computers to learn without being explicitly programmed.  So for example, instead writing a program that handles all different types of user activity, the program begin to categorize user activity, or measure scales of user activity to predict other information about the user."
   ]
  },
  {
   "cell_type": "markdown",
   "metadata": {},
   "source": [
    "### Types of Machine Learning"
   ]
  },
  {
   "cell_type": "markdown",
   "metadata": {},
   "source": [
    "### Supervised Learning"
   ]
  },
  {
   "cell_type": "markdown",
   "metadata": {},
   "source": [
    "What we just described is an example of supervised learning.  In supervised learning, some of the data is labeled.  This means that for some of the data, we know the true value of what our model is trying to predict.  In the above example, we know the actual age of those registered users who indicate their age.  Then we can develop a model that matches user activity to age.  As we gather new registered users and new user activity, our model can see whether it's right or wrong and update the model accordingly.  Based on our model's ability to predict information about our labeled data, we can apply our model to predict the values of unlabeled data.\n",
    "\n",
    "Model -> Prediction -> New Labels -> Update Model"
   ]
  },
  {
   "cell_type": "markdown",
   "metadata": {},
   "source": [
    "Now there are two ways of learning models in supervised learning: classification and regression."
   ]
  },
  {
   "cell_type": "markdown",
   "metadata": {},
   "source": [
    "#### Classification"
   ]
  },
  {
   "cell_type": "markdown",
   "metadata": {},
   "source": [
    "Classification involves the label being discrete categories.   For example, millenials or baby boomers are categories.  We could use user activity to predict if a user falls into one of these categories or the other.  With the registration information allowing us to categorize some users based on actual data, we can then use activity information to see how this predicts the categories of users.  Then we apply this data to predict the generations of those for which we do not have their actual data.  "
   ]
  },
  {
   "cell_type": "markdown",
   "metadata": {},
   "source": [
    "#### Regression"
   ]
  },
  {
   "cell_type": "markdown",
   "metadata": {},
   "source": [
    "Regression is most useful for target values that are continuous.  So for our demographic, the generation of a user is a category, while an age is continuous.  Income is another continuous variable.  Regression analysis could allow us to relate activity to income or age.  For example, it could be that the earlier a search for a dinner restaurant, the older a customer is.  Or not.  We need to do the analysis to know."
   ]
  },
  {
   "cell_type": "markdown",
   "metadata": {},
   "source": [
    "#### Summary of supervised learning"
   ]
  },
  {
   "cell_type": "markdown",
   "metadata": {},
   "source": [
    "But as you can see both of our regression and classification analysis would be supervised learning because we in fact do have user registration information to see the actual demographic characteristics of our users.  Supervised learning is learning where our data has a label.  With regression the target characteristic we predict is continuous (eg. age) whereas with classification it is discrete (eg. millenial, baby boomer, or generation x)."
   ]
  },
  {
   "cell_type": "markdown",
   "metadata": {},
   "source": [
    "### Unsupervised Learning"
   ]
  },
  {
   "cell_type": "markdown",
   "metadata": {},
   "source": [
    "What, then is unsupervised learning?  Unsupervised learning is the useful structure of knowledge when no labels are available.  For example, let's say that we do not have any user signups, and only have user activity information.  Our user activity may indicate certain useful groupings based on various search activity, or visitation activity.  Based on similar groupings of activities, we can categorize our users: those who prefer early dinners at family restaurants, versus those who like late night spots with live music.  So the algorithm does not start with some information pre-categorized.  Instead the output of the algorithm itself may be a label or categorization."
   ]
  },
  {
   "cell_type": "markdown",
   "metadata": {},
   "source": [
    "### The Machine Learning Process"
   ]
  },
  {
   "cell_type": "markdown",
   "metadata": {},
   "source": [
    "In the above section we talked about why machine learning is useful and different techniques of machine learning.  Now let's quickly discuss the process of how to solve a problem with machine learning.  These are the steps involved:\n",
    "\n",
    "* Gather and clean the data \n",
    "* Study the data\n",
    "* Select a model \n",
    "* Training: Optimize the model for some other criteria (eg. how well the model predicts our known labeled data)\n",
    "* Use the model predict on new data"
   ]
  },
  {
   "cell_type": "markdown",
   "metadata": {},
   "source": [
    "Over the next section, we will focus on developing skills to both study the data and train the model.  This is because we already learned about gathering and cleaning data in the Python section.  And at least initially, we will not need to worry about what model to select because we will not know too many machine learning models to choose from.  So studying the data, and training it is.  Then of course we will see the fruit of our labor in using the model to predict new data.\n",
    "\n",
    "Let's focus in on studying the data by spending some more time discussing graphs and data visualization, as it is a powerful technique for studying data."
   ]
  }
 ],
 "metadata": {
  "kernelspec": {
   "display_name": "Python 3",
   "language": "python",
   "name": "python3"
  },
  "language_info": {
   "codemirror_mode": {
    "name": "ipython",
    "version": 3
   },
   "file_extension": ".py",
   "mimetype": "text/x-python",
   "name": "python",
   "nbconvert_exporter": "python",
   "pygments_lexer": "ipython3",
   "version": "3.6.1"
  }
 },
 "nbformat": 4,
 "nbformat_minor": 2
}
