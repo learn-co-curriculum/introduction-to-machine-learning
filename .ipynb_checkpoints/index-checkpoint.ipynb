{
 "cells": [
  {
   "cell_type": "markdown",
   "metadata": {},
   "source": [
    "# What is Machine Learning"
   ]
  },
  {
   "cell_type": "markdown",
   "metadata": {},
   "source": [
    "### The Power of Code...and it's limitations"
   ]
  },
  {
   "cell_type": "markdown",
   "metadata": {},
   "source": [
    "In the previous section we saw how to use Python to collect and analyze data.  We also saw how programming can be used to make decisions with data.  With traditional programming, we saw that we can examine attributes of data -- like a particular user's interests -- and then write programs to select users who have these characteristics.\n",
    "\n",
    "With programming, we have made decisions through the following:\n",
    "\n",
    "```python\n",
    "if this:\n",
    "    do_this()\n",
    "else:\n",
    "    do_that()\n",
    "```\n",
    "\n",
    "Even Python's `filter` method really just uses an if statement."
   ]
  },
  {
   "cell_type": "markdown",
   "metadata": {},
   "source": [
    "But notice that so far, we are making decisions with the assumption that **we know** the characteristics of our data.  \n",
    "\n",
    "However, in the real world, there are many things that we do not **know** and instead must make educated guesses.  Machine learning provides some more rigor behind these guesses.\n",
    "\n",
    "For example, what about a user who just visits but does not register for our website?  Do we know characteristics about him?"
   ]
  },
  {
   "cell_type": "markdown",
   "metadata": {},
   "source": [
    "### Enter Machine Learning"
   ]
  },
  {
   "cell_type": "markdown",
   "metadata": {},
   "source": [
    "Well maybe.  For example, those who repeatedly search for family restaurants may be likely to be between thirty and fifty-five.  We could look at some of our existing registrations and the related user activity to evaluate if this is true.  In other words we'll need to build a program **that models** our users.  Users with this activity tend to have these characteristics.\n",
    "\n",
    "That is where machine learning comes in."
   ]
  },
  {
   "cell_type": "markdown",
   "metadata": {},
   "source": [
    "> **Machine learning** uses statistics and machine learning algorithms to allow computers to **learn without being explicitly programmed**.  \n",
    "\n",
    "In other words, meachine learning leans less on `if` `else` statements to make decisions, and more on statistical analysis. This becomes very powerful.  To go back to our example, instead of writing a program that handles all different types of user activity, the program can use this activity to conclude likely attributes about a user and then design a program that responds to these attributes."
   ]
  },
  {
   "cell_type": "markdown",
   "metadata": {},
   "source": [
    "### Types of Machine Learning"
   ]
  },
  {
   "cell_type": "markdown",
   "metadata": {},
   "source": [
    "#### Supervised Learning"
   ]
  },
  {
   "cell_type": "markdown",
   "metadata": {},
   "source": [
    "The example above, the idea was to predict a look to actual user ages and find associated user activity to then predict expected ages where the ages are unknown.  That's an example of supervised learning.\n",
    "\n",
    "This what supervised learning consists of:\n",
    "\n",
    "**Labeled Training Data**: This is the actual ages provided from registered users \n",
    "\n",
    "** Train machine learning model** With user activity of those with those actual ages (the labeled training data), we build a model that matches known user activity to the known ages  \n",
    "\n",
    "**Model Predicts Unknown**: Now that we have the model that associates known user activity to known ages, we can use the model to have known user activity predict unknown ages"
   ]
  },
  {
   "cell_type": "markdown",
   "metadata": {},
   "source": [
    "So what defines supervised learning is that some of the data  we are trying to predict is *labeled*.  Here, we are trying to predict unknown user ages, but there are some user ages that are provided to us. "
   ]
  },
  {
   "cell_type": "markdown",
   "metadata": {},
   "source": [
    "#### Classification"
   ]
  },
  {
   "cell_type": "markdown",
   "metadata": {},
   "source": [
    "Now there are two types of learning models with supervised learning: classification and regression."
   ]
  },
  {
   "cell_type": "markdown",
   "metadata": {},
   "source": [
    "Classification involves the label being discrete categories.   For example, millenials or baby boomers are categories.  With this classification machine learning model, the labeled training data is the known generational data that we gather from a user registrations.\n",
    "\n",
    "We train the model to associate user activity with a particular generation.  Then we use this trained model to predict the generations of users where we do not have the actual data.  "
   ]
  },
  {
   "cell_type": "markdown",
   "metadata": {},
   "source": [
    "#### Regression"
   ]
  },
  {
   "cell_type": "markdown",
   "metadata": {},
   "source": [
    "While with classification, we label data in discrete categories, with regression our unknown values are continuous.  \n",
    "\n",
    "So for example, instead of predicting whether user is a millenial or not, our model would could predict a specific age -- which is a continuous variable.  So our model could find that the earlier a search for a dinner restaurant, the older a customer is.  That is an example of a regression problem."
   ]
  },
  {
   "cell_type": "markdown",
   "metadata": {},
   "source": [
    "#### Summary of supervised learning"
   ]
  },
  {
   "cell_type": "markdown",
   "metadata": {},
   "source": [
    "But as you can see both of our regression and classification analysis would be supervised learning because we in fact do have user registration information to see the actual demographic characteristics of our users.  Supervised learning is learning where our data has a label.  With regression the target characteristic we predict is continuous (eg. age) whereas with classification it is discrete (eg. millenial, baby boomer, or generation x)."
   ]
  },
  {
   "cell_type": "markdown",
   "metadata": {},
   "source": [
    "### Unsupervised Learning"
   ]
  },
  {
   "cell_type": "markdown",
   "metadata": {},
   "source": [
    "What, then is unsupervised learning?  Unsupervised learning is the useful structure of knowledge when no labels are available.  For example, let's say that we do not have any user signups, and only have user activity information.  Our user activity may indicate certain useful groupings based on various search activity, or visitation activity.  Based on similar groupings of activities, we can categorize our users: those who prefer early dinners at family restaurants, versus those who like late night spots with live music.  So the algorithm does not start with some information pre-categorized.  Instead the output of the algorithm itself may be a label or categorization."
   ]
  },
  {
   "cell_type": "markdown",
   "metadata": {},
   "source": [
    "### Our Data Science and Machine Learning Process"
   ]
  },
  {
   "cell_type": "markdown",
   "metadata": {},
   "source": [
    "In the above section we talked about why machine learning is useful and different techniques of machine learning.  Now let's quickly discuss review our process for tackling a data science or machine learning problem.  These are the steps involved:\n",
    "\n",
    "* Collect: Gather and clean the relevant data\n",
    "* Explore: Explore the data\n",
    "* Train: Choose an statistical or machine learning model (ie. a tool or algorithm) and optimize the model for some criteria (eg. how well the model predicts our data)\n",
    "* Predict: Make predictions with the trained model"
   ]
  },
  {
   "cell_type": "markdown",
   "metadata": {},
   "source": [
    "Let's get started by learning more about graphs so that we can better explore and understand our data."
   ]
  }
 ],
 "metadata": {
  "kernelspec": {
   "display_name": "Python 3",
   "language": "python",
   "name": "python3"
  },
  "language_info": {
   "codemirror_mode": {
    "name": "ipython",
    "version": 3
   },
   "file_extension": ".py",
   "mimetype": "text/x-python",
   "name": "python",
   "nbconvert_exporter": "python",
   "pygments_lexer": "ipython3",
   "version": "3.6.1"
  }
 },
 "nbformat": 4,
 "nbformat_minor": 2
}
